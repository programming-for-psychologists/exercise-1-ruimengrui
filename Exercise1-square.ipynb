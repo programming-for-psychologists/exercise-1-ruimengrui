{
 "cells": [
  {
   "cell_type": "markdown",
   "metadata": {},
   "source": [
    "# Exercise 1: Make a square and play with it\n",
    "------------------------------"
   ]
  },
  {
   "cell_type": "markdown",
   "metadata": {},
   "source": [
    "The following bit of code will show a blue square for 500 ms and then exit out of the program."
   ]
  },
  {
   "cell_type": "code",
   "execution_count": 1,
   "metadata": {},
   "outputs": [
    {
     "ename": "SystemExit",
     "evalue": "",
     "output_type": "error",
     "traceback": [
      "An exception has occurred, use %tb to see the full traceback.\n",
      "\u001b[0;31mSystemExit\u001b[0m\n"
     ]
    },
    {
     "name": "stderr",
     "output_type": "stream",
     "text": [
      "/Users/glupyan/anaconda2/lib/python2.7/site-packages/IPython/core/interactiveshell.py:2889: UserWarning: To exit: use 'exit', 'quit', or Ctrl-D.\n",
      "  warn(\"To exit: use 'exit', 'quit', or Ctrl-D.\", stacklevel=1)\n"
     ]
    }
   ],
   "source": [
    "import time\n",
    "import sys\n",
    "from psychopy import visual,event,core\n",
    " \n",
    "win = visual.Window([400,400],color=\"black\", units='pix')\n",
    "square = visual.Rect(win,lineColor=\"black\",fillColor=\"blue\",size=[100,100])\n",
    "square.draw()\n",
    "win.flip()\n",
    "core.wait(.5) #pause for 500 ms (half a second)\n",
    "sys.exit()"
   ]
  },
  {
   "cell_type": "markdown",
   "metadata": {},
   "source": [
    "## Go through each line and understand what it does. Then...\n",
    "\n",
    "1. Make the square red instead of blue\n",
    "\n",
    "1. Make the square appear for 1.5 secs.\n",
    "\n",
    "1. Make the square appear for 1.5 secs, then show a blank screen for 1 sec, then flash the square for 30 ms\n",
    "\n",
    "1. Show a red square for 1 s, then switch it to blue and show it for 1 s\n",
    "\n",
    "1. Show the following sequence: blue, red, blue, red, blue, red\n",
    "\n",
    "1. Show a red square for 1 s then change its orientation by 45-deg\n",
    "\n",
    "    <div class=\"alert alert-block alert-info\">\n",
    "    To change the orientation by a certain degree-value use square.setOri(value) where `value` is the new orientation.\n",
    "    </div>\n",
    "    \n",
    "1. Now make a square rotate continuously, one full revolution (360 degrees) per second\n",
    "    <div class=\"alert alert-block alert-info\">\n",
    "    To increase orientation use `square.ori += value` where `value` is the value by which to increase the\n",
    "    orientation.\n",
    "    </div>\n",
    "\n",
    "1. Make a rotating square stop rotating when you press the 's' key\n",
    "\n",
    "    <div class=\"alert alert-block alert-info\">\n",
    "    To accept keyboard input you'll want to check it event.getKeys(['s']) is True. \n",
    "    </div>\n",
    "\n",
    "1. Make a square stop rotating when you press 's' and then start rotating again when you press 'r'\n",
    "\n",
    "1. Display a blue square and increase its width (making it a rectangle) by 10 pixels whenever the user presses the left-arrow key. Decrease the width by 10 pixels when the user presses the right-arrow key\n",
    "\n",
    "    <div class=\"alert alert-block alert-info\">\n",
    "    The key codes for right and left arrows in PsychoPy are simply 'right' and 'left'\n",
    "    </div>\n",
    "\n",
    "    <div class=\"alert alert-block alert-info\">\n",
    "    To change the width use `square.size += [x,y]` where `x` and `y` are the values by which you want to change the \n",
    "    size\n",
    "    </div>\n",
    "\n",
    "1. Make the rectangle decrease/increase its width by 10% of its current width with each keypress instead of 10 pixels\n",
    "\n",
    "1. Show *two* rotating squares simultaneously, one left of center rotating clockwise, the other right of center, rotating counterclockwise\n",
    "\n",
    "1. Do something that's not listed here (e.g., make it a pentagon instead of a square, make it pulsate, bounce off the walls.. be creative.\n"
   ]
  }
 ],
 "metadata": {
  "kernelspec": {
   "display_name": "Python 2",
   "language": "python",
   "name": "python2"
  },
  "language_info": {
   "codemirror_mode": {
    "name": "ipython",
    "version": 2
   },
   "file_extension": ".py",
   "mimetype": "text/x-python",
   "name": "python",
   "nbconvert_exporter": "python",
   "pygments_lexer": "ipython2",
   "version": "2.7.13"
  },
  "toc": {
   "nav_menu": {},
   "number_sections": true,
   "sideBar": true,
   "skip_h1_title": false,
   "toc_cell": false,
   "toc_position": {
    "height": "526px",
    "left": "0px",
    "right": "1062px",
    "top": "111px",
    "width": "218px"
   },
   "toc_section_display": "block",
   "toc_window_display": true
  }
 },
 "nbformat": 4,
 "nbformat_minor": 2
}
